{
 "cells": [
  {
   "cell_type": "code",
   "execution_count": 1,
   "metadata": {},
   "outputs": [],
   "source": [
    "import pandas as pd\n",
    "import csv\n",
    "import time"
   ]
  },
  {
   "cell_type": "code",
   "execution_count": 2,
   "metadata": {},
   "outputs": [
    {
     "name": "stdout",
     "output_type": "stream",
     "text": [
      "read data cost time: 0.21577954292297363\n"
     ]
    }
   ],
   "source": [
    "s = time.time()\n",
    "dfName = ['transactions/transactions_test', 'trainHistory', 'testHistory', 'offers']\n",
    "# dfName = ['user_info_format1','train_format1','user_log_format1']\n",
    "trans_part = pd.read_csv('../data/%s.csv'%dfName[0],sep=',')\n",
    "trainH = pd.read_csv('../data/%s.csv'%dfName[1],sep=',')\n",
    "testH = pd.read_csv('../data/%s.csv'%dfName[2],sep=',')\n",
    "offers = pd.read_csv('../data/%s.csv'%dfName[3],sep=',')\n",
    "\n",
    "s0 = time.time()\n",
    "print('read data cost time:',s0-s)"
   ]
  },
  {
   "cell_type": "code",
   "execution_count": 3,
   "metadata": {},
   "outputs": [],
   "source": [
    "def describe_df(df):\n",
    "    print('df.index:',df.index)\n",
    "    print('len(df):',len(df))\n",
    "    print('df.columns:',df.columns,'\\n')\n",
    "    print(df.info(),'\\n')\n",
    "    \n",
    "    \n",
    "def unique_count(df, label,report):\n",
    "    unique_list = df[label].unique()\n",
    "    unique_num = len(unique_list)\n",
    "    report.ix[label][\"unique_num\"] = unique_num \n",
    "    \n",
    "    \n",
    "def count_null(df, label, report):\n",
    "    unique_list = df[label].unique()\n",
    "    unique_num = len(unique_list)\n",
    "    report.ix[label][\"unique_num\"] = unique_num \n",
    "    report.ix[label,'null_num'] = df[label].isnull().sum()"
   ]
  },
  {
   "cell_type": "code",
   "execution_count": 4,
   "metadata": {},
   "outputs": [],
   "source": [
    "# to call the def ['describe_df','unique_count','count_null']\n",
    "def report_basic_info(df): \n",
    "    describe_df(df)  \n",
    "    col = df.columns\n",
    "    report= pd.DataFrame(index=col,columns=[\"unique_num\"])   \n",
    "    # count unique\n",
    "    for i in range(len(col)): unique_count(df,col[i],report)\n",
    "    # count null\n",
    "    for i in range(len(col)): count_null(df,col[i],report)\n",
    "    print(report)"
   ]
  },
  {
   "cell_type": "code",
   "execution_count": 5,
   "metadata": {},
   "outputs": [
    {
     "name": "stdout",
     "output_type": "stream",
     "text": [
      "df.index: RangeIndex(start=0, stop=5999, step=1)\n",
      "len(df): 5999\n",
      "df.columns: Index(['id', 'chain', 'dept', 'category', 'company', 'brand', 'date',\n",
      "       'productsize', 'productmeasure', 'purchasequantity', 'purchaseamount'],\n",
      "      dtype='object') \n",
      "\n",
      "<class 'pandas.core.frame.DataFrame'>\n",
      "RangeIndex: 5999 entries, 0 to 5998\n",
      "Data columns (total 11 columns):\n",
      "id                  5999 non-null int64\n",
      "chain               5999 non-null int64\n",
      "dept                5999 non-null int64\n",
      "category            5999 non-null int64\n",
      "company             5999 non-null int64\n",
      "brand               5999 non-null int64\n",
      "date                5999 non-null object\n",
      "productsize         5999 non-null float64\n",
      "productmeasure      5937 non-null object\n",
      "purchasequantity    5999 non-null int64\n",
      "purchaseamount      5999 non-null float64\n",
      "dtypes: float64(2), int64(7), object(2)\n",
      "memory usage: 515.6+ KB\n",
      "None \n",
      "\n"
     ]
    },
    {
     "name": "stderr",
     "output_type": "stream",
     "text": [
      "c:\\users\\student\\appdata\\local\\programs\\python\\python36\\lib\\site-packages\\ipykernel_launcher.py:11: DeprecationWarning: \n",
      ".ix is deprecated. Please use\n",
      ".loc for label based indexing or\n",
      ".iloc for positional indexing\n",
      "\n",
      "See the documentation here:\n",
      "http://pandas.pydata.org/pandas-docs/stable/indexing.html#ix-indexer-is-deprecated\n",
      "  # This is added back by InteractiveShellApp.init_path()\n",
      "c:\\users\\student\\appdata\\local\\programs\\python\\python36\\lib\\site-packages\\ipykernel_launcher.py:17: DeprecationWarning: \n",
      ".ix is deprecated. Please use\n",
      ".loc for label based indexing or\n",
      ".iloc for positional indexing\n",
      "\n",
      "See the documentation here:\n",
      "http://pandas.pydata.org/pandas-docs/stable/indexing.html#ix-indexer-is-deprecated\n",
      "c:\\users\\student\\appdata\\local\\programs\\python\\python36\\lib\\site-packages\\ipykernel_launcher.py:18: DeprecationWarning: \n",
      ".ix is deprecated. Please use\n",
      ".loc for label based indexing or\n",
      ".iloc for positional indexing\n",
      "\n",
      "See the documentation here:\n",
      "http://pandas.pydata.org/pandas-docs/stable/indexing.html#ix-indexer-is-deprecated\n",
      "c:\\users\\student\\appdata\\local\\programs\\python\\python36\\lib\\site-packages\\ipykernel_launcher.py:17: SettingWithCopyWarning: \n",
      "A value is trying to be set on a copy of a slice from a DataFrame\n",
      "\n",
      "See the caveats in the documentation: http://pandas.pydata.org/pandas-docs/stable/indexing.html#indexing-view-versus-copy\n"
     ]
    },
    {
     "name": "stdout",
     "output_type": "stream",
     "text": [
      "                 unique_num  null_num\n",
      "id                        1       0.0\n",
      "chain                     1       0.0\n",
      "dept                     79       0.0\n",
      "category                535       0.0\n",
      "company                 719       0.0\n",
      "brand                   991       0.0\n",
      "date                    335       0.0\n",
      "productsize             386       0.0\n",
      "productmeasure            7      62.0\n",
      "purchasequantity         15       0.0\n",
      "purchaseamount          672       0.0\n"
     ]
    }
   ],
   "source": [
    "# it's only part of data\n",
    "report_basic_info(trans_part)"
   ]
  },
  {
   "cell_type": "code",
   "execution_count": 6,
   "metadata": {
    "scrolled": true
   },
   "outputs": [
    {
     "name": "stdout",
     "output_type": "stream",
     "text": [
      "df.index: RangeIndex(start=0, stop=160057, step=1)\n",
      "len(df): 160057\n",
      "df.columns: Index(['id', 'chain', 'offer', 'market', 'repeattrips', 'repeater',\n",
      "       'offerdate'],\n",
      "      dtype='object') \n",
      "\n",
      "<class 'pandas.core.frame.DataFrame'>\n",
      "RangeIndex: 160057 entries, 0 to 160056\n",
      "Data columns (total 7 columns):\n",
      "id             160057 non-null int64\n",
      "chain          160057 non-null int64\n",
      "offer          160057 non-null int64\n",
      "market         160057 non-null int64\n",
      "repeattrips    160057 non-null int64\n",
      "repeater       160057 non-null object\n",
      "offerdate      160057 non-null object\n",
      "dtypes: int64(5), object(2)\n",
      "memory usage: 8.5+ MB\n",
      "None \n",
      "\n",
      "            unique_num  null_num\n",
      "id              160057       0.0\n",
      "chain              130       0.0\n",
      "offer               24       0.0\n",
      "market              34       0.0\n",
      "repeattrips         56       0.0\n",
      "repeater             2       0.0\n",
      "offerdate           56       0.0\n"
     ]
    },
    {
     "name": "stderr",
     "output_type": "stream",
     "text": [
      "c:\\users\\student\\appdata\\local\\programs\\python\\python36\\lib\\site-packages\\ipykernel_launcher.py:11: DeprecationWarning: \n",
      ".ix is deprecated. Please use\n",
      ".loc for label based indexing or\n",
      ".iloc for positional indexing\n",
      "\n",
      "See the documentation here:\n",
      "http://pandas.pydata.org/pandas-docs/stable/indexing.html#ix-indexer-is-deprecated\n",
      "  # This is added back by InteractiveShellApp.init_path()\n",
      "c:\\users\\student\\appdata\\local\\programs\\python\\python36\\lib\\site-packages\\ipykernel_launcher.py:17: DeprecationWarning: \n",
      ".ix is deprecated. Please use\n",
      ".loc for label based indexing or\n",
      ".iloc for positional indexing\n",
      "\n",
      "See the documentation here:\n",
      "http://pandas.pydata.org/pandas-docs/stable/indexing.html#ix-indexer-is-deprecated\n",
      "c:\\users\\student\\appdata\\local\\programs\\python\\python36\\lib\\site-packages\\ipykernel_launcher.py:18: DeprecationWarning: \n",
      ".ix is deprecated. Please use\n",
      ".loc for label based indexing or\n",
      ".iloc for positional indexing\n",
      "\n",
      "See the documentation here:\n",
      "http://pandas.pydata.org/pandas-docs/stable/indexing.html#ix-indexer-is-deprecated\n",
      "c:\\users\\student\\appdata\\local\\programs\\python\\python36\\lib\\site-packages\\ipykernel_launcher.py:17: SettingWithCopyWarning: \n",
      "A value is trying to be set on a copy of a slice from a DataFrame\n",
      "\n",
      "See the caveats in the documentation: http://pandas.pydata.org/pandas-docs/stable/indexing.html#indexing-view-versus-copy\n"
     ]
    }
   ],
   "source": [
    "report_basic_info(trainH)"
   ]
  },
  {
   "cell_type": "code",
   "execution_count": 7,
   "metadata": {},
   "outputs": [
    {
     "name": "stdout",
     "output_type": "stream",
     "text": [
      "df.index: RangeIndex(start=0, stop=151484, step=1)\n",
      "len(df): 151484\n",
      "df.columns: Index(['id', 'chain', 'offer', 'market', 'offerdate'], dtype='object') \n",
      "\n",
      "<class 'pandas.core.frame.DataFrame'>\n",
      "RangeIndex: 151484 entries, 0 to 151483\n",
      "Data columns (total 5 columns):\n",
      "id           151484 non-null int64\n",
      "chain        151484 non-null int64\n",
      "offer        151484 non-null int64\n",
      "market       151484 non-null int64\n",
      "offerdate    151484 non-null object\n",
      "dtypes: int64(4), object(1)\n",
      "memory usage: 5.8+ MB\n",
      "None \n",
      "\n",
      "          unique_num  null_num\n",
      "id            151484       0.0\n",
      "chain            131       0.0\n",
      "offer             29       0.0\n",
      "market            34       0.0\n",
      "offerdate         89       0.0\n"
     ]
    },
    {
     "name": "stderr",
     "output_type": "stream",
     "text": [
      "c:\\users\\student\\appdata\\local\\programs\\python\\python36\\lib\\site-packages\\ipykernel_launcher.py:11: DeprecationWarning: \n",
      ".ix is deprecated. Please use\n",
      ".loc for label based indexing or\n",
      ".iloc for positional indexing\n",
      "\n",
      "See the documentation here:\n",
      "http://pandas.pydata.org/pandas-docs/stable/indexing.html#ix-indexer-is-deprecated\n",
      "  # This is added back by InteractiveShellApp.init_path()\n",
      "c:\\users\\student\\appdata\\local\\programs\\python\\python36\\lib\\site-packages\\ipykernel_launcher.py:17: DeprecationWarning: \n",
      ".ix is deprecated. Please use\n",
      ".loc for label based indexing or\n",
      ".iloc for positional indexing\n",
      "\n",
      "See the documentation here:\n",
      "http://pandas.pydata.org/pandas-docs/stable/indexing.html#ix-indexer-is-deprecated\n",
      "c:\\users\\student\\appdata\\local\\programs\\python\\python36\\lib\\site-packages\\ipykernel_launcher.py:18: DeprecationWarning: \n",
      ".ix is deprecated. Please use\n",
      ".loc for label based indexing or\n",
      ".iloc for positional indexing\n",
      "\n",
      "See the documentation here:\n",
      "http://pandas.pydata.org/pandas-docs/stable/indexing.html#ix-indexer-is-deprecated\n",
      "c:\\users\\student\\appdata\\local\\programs\\python\\python36\\lib\\site-packages\\ipykernel_launcher.py:17: SettingWithCopyWarning: \n",
      "A value is trying to be set on a copy of a slice from a DataFrame\n",
      "\n",
      "See the caveats in the documentation: http://pandas.pydata.org/pandas-docs/stable/indexing.html#indexing-view-versus-copy\n"
     ]
    }
   ],
   "source": [
    "report_basic_info(testH)"
   ]
  },
  {
   "cell_type": "code",
   "execution_count": 8,
   "metadata": {},
   "outputs": [
    {
     "name": "stdout",
     "output_type": "stream",
     "text": [
      "df.index: RangeIndex(start=0, stop=37, step=1)\n",
      "len(df): 37\n",
      "df.columns: Index(['offer', 'category', 'quantity', 'company', 'offervalue', 'brand'], dtype='object') \n",
      "\n",
      "<class 'pandas.core.frame.DataFrame'>\n",
      "RangeIndex: 37 entries, 0 to 36\n",
      "Data columns (total 6 columns):\n",
      "offer         37 non-null int64\n",
      "category      37 non-null int64\n",
      "quantity      37 non-null int64\n",
      "company       37 non-null int64\n",
      "offervalue    37 non-null float64\n",
      "brand         37 non-null int64\n",
      "dtypes: float64(1), int64(5)\n",
      "memory usage: 1.8 KB\n",
      "None \n",
      "\n"
     ]
    },
    {
     "name": "stderr",
     "output_type": "stream",
     "text": [
      "c:\\users\\student\\appdata\\local\\programs\\python\\python36\\lib\\site-packages\\ipykernel_launcher.py:11: DeprecationWarning: \n",
      ".ix is deprecated. Please use\n",
      ".loc for label based indexing or\n",
      ".iloc for positional indexing\n",
      "\n",
      "See the documentation here:\n",
      "http://pandas.pydata.org/pandas-docs/stable/indexing.html#ix-indexer-is-deprecated\n",
      "  # This is added back by InteractiveShellApp.init_path()\n",
      "c:\\users\\student\\appdata\\local\\programs\\python\\python36\\lib\\site-packages\\ipykernel_launcher.py:17: DeprecationWarning: \n",
      ".ix is deprecated. Please use\n",
      ".loc for label based indexing or\n",
      ".iloc for positional indexing\n",
      "\n",
      "See the documentation here:\n",
      "http://pandas.pydata.org/pandas-docs/stable/indexing.html#ix-indexer-is-deprecated\n",
      "c:\\users\\student\\appdata\\local\\programs\\python\\python36\\lib\\site-packages\\ipykernel_launcher.py:18: DeprecationWarning: \n",
      ".ix is deprecated. Please use\n",
      ".loc for label based indexing or\n",
      ".iloc for positional indexing\n",
      "\n",
      "See the documentation here:\n",
      "http://pandas.pydata.org/pandas-docs/stable/indexing.html#ix-indexer-is-deprecated\n",
      "c:\\users\\student\\appdata\\local\\programs\\python\\python36\\lib\\site-packages\\ipykernel_launcher.py:17: SettingWithCopyWarning: \n",
      "A value is trying to be set on a copy of a slice from a DataFrame\n",
      "\n",
      "See the caveats in the documentation: http://pandas.pydata.org/pandas-docs/stable/indexing.html#indexing-view-versus-copy\n"
     ]
    },
    {
     "name": "stdout",
     "output_type": "stream",
     "text": [
      "           unique_num  null_num\n",
      "offer              37       0.0\n",
      "category           20       0.0\n",
      "quantity            2       0.0\n",
      "company            18       0.0\n",
      "offervalue          7       0.0\n",
      "brand              19       0.0\n"
     ]
    }
   ],
   "source": [
    "report_basic_info(offers)"
   ]
  },
  {
   "cell_type": "code",
   "execution_count": null,
   "metadata": {},
   "outputs": [],
   "source": []
  },
  {
   "cell_type": "code",
   "execution_count": null,
   "metadata": {},
   "outputs": [],
   "source": []
  },
  {
   "cell_type": "code",
   "execution_count": null,
   "metadata": {},
   "outputs": [],
   "source": []
  },
  {
   "cell_type": "code",
   "execution_count": null,
   "metadata": {},
   "outputs": [],
   "source": []
  },
  {
   "cell_type": "code",
   "execution_count": null,
   "metadata": {},
   "outputs": [],
   "source": []
  },
  {
   "cell_type": "code",
   "execution_count": null,
   "metadata": {},
   "outputs": [],
   "source": []
  }
 ],
 "metadata": {
  "kernelspec": {
   "display_name": "Python 3",
   "language": "python",
   "name": "python3"
  },
  "language_info": {
   "codemirror_mode": {
    "name": "ipython",
    "version": 3
   },
   "file_extension": ".py",
   "mimetype": "text/x-python",
   "name": "python",
   "nbconvert_exporter": "python",
   "pygments_lexer": "ipython3",
   "version": "3.6.5"
  }
 },
 "nbformat": 4,
 "nbformat_minor": 2
}
