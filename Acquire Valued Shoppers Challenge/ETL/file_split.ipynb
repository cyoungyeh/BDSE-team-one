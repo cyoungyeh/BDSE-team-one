{
 "cells": [
  {
   "cell_type": "code",
   "execution_count": 1,
   "metadata": {},
   "outputs": [],
   "source": [
    "import pandas as pd \n",
    "import csv\n",
    "path = \"C:/Users/Student/Desktop/Acquire Valued Shoppers Challenge/data/transactions.csv\"\n",
    "# p = \"C:/Users/Student/Desktop/Acquire Valued Shoppers Challenge/sampleSubmission.csv\""
   ]
  },
  {
   "cell_type": "code",
   "execution_count": 2,
   "metadata": {},
   "outputs": [
    {
     "ename": "SyntaxError",
     "evalue": "invalid syntax (<ipython-input-2-d1a3958fc92d>, line 31)",
     "output_type": "error",
     "traceback": [
      "\u001b[1;36m  File \u001b[1;32m\"<ipython-input-2-d1a3958fc92d>\"\u001b[1;36m, line \u001b[1;32m31\u001b[0m\n\u001b[1;33m    splitfile(r path,6000)\u001b[0m\n\u001b[1;37m                   ^\u001b[0m\n\u001b[1;31mSyntaxError\u001b[0m\u001b[1;31m:\u001b[0m invalid syntax\n"
     ]
    }
   ],
   "source": [
    "import os\n",
    "\n",
    "def splitfile(filepath,linesize=3000):\n",
    "    filedir,name = os.path.split(filepath)\n",
    "    name,ext = os.path.splitext(name)\n",
    "    filedir = os.path.join(filedir,name)\n",
    "    if not os.path.exists(filedir):\n",
    "        os.mkdir(filedir)\n",
    "         \n",
    "    stream = open(filepath,'r', encoding='utf-8')\n",
    "   \n",
    "    partfilename = os.path.join(filedir,name + '_test' + ext)\n",
    "    print('write start %s' % partfilename)\n",
    "    part_stream = open(partfilename,'w', encoding='utf-8')\n",
    " \n",
    "    read_count = 0\n",
    "    while read_count < linesize:\n",
    "        read_content = stream.readline()\n",
    "        if read_content:\n",
    "            part_stream.write(read_content)\n",
    "        else:\n",
    "            break\n",
    "        read_count += 1\n",
    "          \n",
    "    part_stream.close()\n",
    "        \n",
    "    print('done')\n",
    " \n",
    " \n",
    "if __name__ == '__main__':\n",
    "    splitfile(path,6000)\n",
    "# https://my.oschina.net/friendship/blog/733861"
   ]
  },
  {
   "cell_type": "code",
   "execution_count": null,
   "metadata": {},
   "outputs": [],
   "source": []
  }
 ],
 "metadata": {
  "kernelspec": {
   "display_name": "Python 3",
   "language": "python",
   "name": "python3"
  },
  "language_info": {
   "codemirror_mode": {
    "name": "ipython",
    "version": 3
   },
   "file_extension": ".py",
   "mimetype": "text/x-python",
   "name": "python",
   "nbconvert_exporter": "python",
   "pygments_lexer": "ipython3",
   "version": "3.6.5"
  }
 },
 "nbformat": 4,
 "nbformat_minor": 2
}
