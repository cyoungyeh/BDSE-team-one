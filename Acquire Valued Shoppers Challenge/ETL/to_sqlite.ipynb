{
 "cells": [
  {
   "cell_type": "code",
   "execution_count": 6,
   "metadata": {},
   "outputs": [],
   "source": [
    "'''\n",
    "import raw data to sqlite name AVSC.db\n",
    "'''\n",
    "import pandas as pd\n",
    "import sqlite3\n",
    "from pandas.io import sql\n",
    "import subprocess  as sp\n",
    "import time\n",
    "import platform"
   ]
  },
  {
   "cell_type": "code",
   "execution_count": 2,
   "metadata": {},
   "outputs": [
    {
     "name": "stdout",
     "output_type": "stream",
     "text": [
      "file length: 349655790\n",
      "total cost time: 6712.203983783722\n"
     ]
    }
   ],
   "source": [
    "s = time.time()\n",
    "\n",
    "in_csv = '../data/transactions.csv'\n",
    "out_sqlite = '../data/AVSC.db'\n",
    "\n",
    "table_name = 'transactions' \n",
    "columns = ['id', 'chain', 'dept', 'category', 'company', 'brand', 'date',\n",
    "       'productsize', 'productmeasure', 'purchasequantity', 'purchaseamount']\n",
    "\n",
    "chunksize = 10000000 \n",
    " \n",
    "# to check os \n",
    "# rows of csv file\n",
    "system_type = platform.system()\n",
    "if system_type is Windows:    # for Windows cmd  \"find /V \"\" /C ../data/transactions.csv\"\n",
    "    nlines = sp.check_output(['find', '/V', '\"\"','/C', in_csv])     # ---------- TRANSACTIONS.CSV: 349655790\n",
    "    nlines = int(nlines.split()[-1])\n",
    "    print('file length:', nlines)\n",
    "elif system_type is Linux:    # for Linux shell\n",
    "    nlines = sp.check_output(['wc', '-l', in_csv])\n",
    "    nlines = int(nlines.split()[0])\n",
    "    print('file length:', nlines)\n",
    "else:\n",
    "    print('your os is not Windows or Linux')\n",
    "\n",
    "t1 = time.time()\n",
    "print('count line cost time:',t1-s)\n",
    "\n",
    "cnx = sqlite3.connect(out_sqlite)\n",
    " \n",
    "for i in range(1, nlines, chunksize):  # csv has columns' name 0->1\n",
    " \n",
    "    df = pd.read_csv(in_csv,\n",
    "            header=None,\n",
    "            nrows=chunksize,\n",
    "            skiprows=i)\n",
    " \n",
    "    df.columns = columns\n",
    " \n",
    "    sql.to_sql(df,\n",
    "                name=table_name,\n",
    "                con=cnx,\n",
    "                index=False,\n",
    "                index_label='molecule_id',\n",
    "                if_exists='append')\n",
    "cnx.close()\n",
    "print('to db cost time:',time.time()-t1)\n",
    "print('total cost time:',time.time()-s)"
   ]
  },
  {
   "cell_type": "code",
   "execution_count": 7,
   "metadata": {},
   "outputs": [
    {
     "data": {
      "text/plain": [
       "'Windows'"
      ]
     },
     "execution_count": 7,
     "metadata": {},
     "output_type": "execute_result"
    }
   ],
   "source": []
  }
 ],
 "metadata": {
  "kernelspec": {
   "display_name": "Python 3",
   "language": "python",
   "name": "python3"
  },
  "language_info": {
   "codemirror_mode": {
    "name": "ipython",
    "version": 3
   },
   "file_extension": ".py",
   "mimetype": "text/x-python",
   "name": "python",
   "nbconvert_exporter": "python",
   "pygments_lexer": "ipython3",
   "version": "3.6.5"
  }
 },
 "nbformat": 4,
 "nbformat_minor": 2
}
